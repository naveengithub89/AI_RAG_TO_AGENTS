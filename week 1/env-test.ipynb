{
 "cells": [
  {
   "cell_type": "code",
   "execution_count": 2,
   "id": "12fc6019-e2cc-4da8-b5a7-1774265321fc",
   "metadata": {},
   "outputs": [],
   "source": [
    "from openai import OpenAI"
   ]
  },
  {
   "cell_type": "code",
   "execution_count": 3,
   "id": "f28581ce-e1b5-4c0f-80b5-88b64ff9458c",
   "metadata": {},
   "outputs": [],
   "source": [
    "openai_client = OpenAI()"
   ]
  },
  {
   "cell_type": "code",
   "execution_count": 13,
   "id": "f4f6d996-072c-43a7-bef4-432b30910df9",
   "metadata": {},
   "outputs": [
    {
     "name": "stdout",
     "output_type": "stream",
     "text": [
      "**Luna the Dreaming Unicorn**\n",
      "\n",
      "Once upon a time, in a shimmering valley filled with sparkling flowers and fluttering butterflies, there lived a gentle unicorn named Luna. Unlike any other unicorn, Luna had a coat that sparkled like the night sky and a mane that flowed like moonlight.\n",
      "\n",
      "Every evening, as the sun dipped below the horizon, Luna would wander to her favorite hilltop. There, she would look up at the twinkling stars and make a wish. You see, Luna had a special gift: she could bring dreams to life!\n",
      "\n",
      "One night, as she gazed at the celestial tapestry above, she spotted a bright star twinkling especially fiercely. Luna closed her eyes and whispered, “I wish to share the sweetest dreams with everyone in the valley.” \n",
      "\n",
      "The next morning, the animals awoke to find colorful dream bubbles floating through the air—each one holding a special dream. The rabbits dreamt of endless fields of carrots, the birds of singing in harmony, and the deer of dancing in the moonlight.\n",
      "\n",
      "Luna giggled as she watched her friends discover their dreams. The entire valley burst into joy! Each day, Luna would sprinkle more dreams, and by nightfall, the air was filled with laughter and happiness.\n",
      "\n",
      "One evening, as Luna settled down on her hilltop, she realized that the true magic wasn’t just in the dreams she created, but in the happiness they brought to everyone. With a heart full of love, she whispered to the stars once more, “May everyone always find their dreams.”\n",
      "\n",
      "And from that night onward, whenever a wish was made under the twinkling sky, Luna’s light would shimmer, guiding each heart to its happiest dreams.\n",
      "\n",
      "As the stars lit up the night, Luna nestled into her cozy spot, ready to dream herself. And in her dreams, she danced with all her friends beneath the glowing moon, forever spreading joy and magic throughout the valley.\n",
      "\n",
      "With that, the world fell asleep, wrapped in sweet dreams, thanks to Luna the dreaming unicorn. \n",
      "\n",
      "**Goodnight, dear friend. Sweet dreams await!**\n"
     ]
    }
   ],
   "source": [
    "response = openai_client.responses.create(\n",
    "    model=\"gpt-4o-mini\",\n",
    "    input=\"Write a short bedtime story about a unicorn.\"\n",
    ")\n",
    "\n",
    "print(response.output_text)"
   ]
  },
  {
   "cell_type": "code",
   "execution_count": null,
   "id": "e003e94c-d77c-4fc1-87dc-6e26a99a0099",
   "metadata": {},
   "outputs": [],
   "source": []
  }
 ],
 "metadata": {
  "kernelspec": {
   "display_name": "Python 3 (ipykernel)",
   "language": "python",
   "name": "python3"
  },
  "language_info": {
   "codemirror_mode": {
    "name": "ipython",
    "version": 3
   },
   "file_extension": ".py",
   "mimetype": "text/x-python",
   "name": "python",
   "nbconvert_exporter": "python",
   "pygments_lexer": "ipython3",
   "version": "3.12.1"
  }
 },
 "nbformat": 4,
 "nbformat_minor": 5
}
